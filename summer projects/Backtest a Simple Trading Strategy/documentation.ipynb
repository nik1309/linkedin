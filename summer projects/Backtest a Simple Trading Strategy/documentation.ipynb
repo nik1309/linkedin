{
 "cells": [
  {
   "cell_type": "markdown",
   "id": "0541d404",
   "metadata": {},
   "source": [
    "1. SMA50/SMA200 Crossover Strategy (Trend-Following)\n",
    "\n",
    "How it works:\n",
    "\n",
    "This strategy uses moving averages to identify trends.\n",
    "\n",
    "SMA50: average of the last 50 closing prices.\n",
    "\n",
    "SMA200: average of the last 200 closing prices.\n",
    "\n",
    "Signal:\n",
    "\n",
    "Buy (go long) when SMA50 is above SMA200, indicating an upward trend.\n",
    "\n",
    "Stay in cash when SMA50 is below SMA200, indicating a downward trend.\n",
    "\n",
    "Only takes long positions.\n",
    "\n",
    "Pros:\n",
    "\n",
    "Simple and robust.\n",
    "\n",
    "Captures long-term trends.\n",
    "\n",
    "Low trading frequency reduces transaction costs.\n",
    "\n",
    "Easy to monitor visually.\n",
    "\n",
    "Cons:\n",
    "\n",
    "Generates signals late due to reliance on averages.\n",
    "\n",
    "Not effective in sideways or choppy markets.\n",
    "\n",
    "May have lower returns in volatile periods.\n",
    "\n",
    "Code Explanation:"
   ]
  },
  {
   "cell_type": "code",
   "execution_count": 1,
   "id": "4b826499",
   "metadata": {},
   "outputs": [
    {
     "ename": "NameError",
     "evalue": "name 'df' is not defined",
     "output_type": "error",
     "traceback": [
      "\u001b[31m---------------------------------------------------------------------------\u001b[39m",
      "\u001b[31mNameError\u001b[39m                                 Traceback (most recent call last)",
      "\u001b[36mCell\u001b[39m\u001b[36m \u001b[39m\u001b[32mIn[1]\u001b[39m\u001b[32m, line 1\u001b[39m\n\u001b[32m----> \u001b[39m\u001b[32m1\u001b[39m df[\u001b[33m'\u001b[39m\u001b[33mSMA50\u001b[39m\u001b[33m'\u001b[39m] = \u001b[43mdf\u001b[49m[\u001b[33m'\u001b[39m\u001b[33mClose\u001b[39m\u001b[33m'\u001b[39m].rolling(window=\u001b[32m50\u001b[39m).mean()  \u001b[38;5;66;03m# Average of last 50 days\u001b[39;00m\n\u001b[32m      2\u001b[39m df[\u001b[33m'\u001b[39m\u001b[33mSMA200\u001b[39m\u001b[33m'\u001b[39m] = df[\u001b[33m'\u001b[39m\u001b[33mClose\u001b[39m\u001b[33m'\u001b[39m].rolling(window=\u001b[32m200\u001b[39m).mean() \u001b[38;5;66;03m# Average of last 200 days\u001b[39;00m\n",
      "\u001b[31mNameError\u001b[39m: name 'df' is not defined"
     ]
    }
   ],
   "source": [
    "df['SMA50'] = df['Close'].rolling(window=50).mean()  # Average of last 50 days\n",
    "df['SMA200'] = df['Close'].rolling(window=200).mean() # Average of last 200 days"
   ]
  },
  {
   "cell_type": "markdown",
   "id": "b8269507",
   "metadata": {},
   "source": [
    "Calculates moving averages using the closing price over the specified number of days."
   ]
  }
 ],
 "metadata": {
  "kernelspec": {
   "display_name": "Python 3",
   "language": "python",
   "name": "python3"
  },
  "language_info": {
   "codemirror_mode": {
    "name": "ipython",
    "version": 3
   },
   "file_extension": ".py",
   "mimetype": "text/x-python",
   "name": "python",
   "nbconvert_exporter": "python",
   "pygments_lexer": "ipython3",
   "version": "3.13.1"
  }
 },
 "nbformat": 4,
 "nbformat_minor": 5
}
